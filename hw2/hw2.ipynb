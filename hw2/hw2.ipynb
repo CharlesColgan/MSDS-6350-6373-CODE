{
  "nbformat": 4,
  "nbformat_minor": 0,
  "metadata": {
    "colab": {
      "name": "Untitled0.ipynb",
      "provenance": [],
      "toc_visible": true
    },
    "kernelspec": {
      "name": "python3",
      "display_name": "Python 3"
    }
  },
  "cells": [
    {
      "cell_type": "markdown",
      "metadata": {
        "id": "CG4-0Pt9dVIX"
      },
      "source": [
        "Packages"
      ]
    },
    {
      "cell_type": "code",
      "metadata": {
        "id": "yuUYKw2Ub_1i"
      },
      "source": [
        "import pandas as pd\n",
        "import numpy as np\n",
        "import functools\n",
        "import sklearn as sk\n",
        "from sklearn.preprocessing import StandardScaler\n",
        "from sklearn.model_selection import train_test_split\n",
        "from sklearn.decomposition import PCA\n",
        "import matplotlib.pyplot as plt"
      ],
      "execution_count": 1,
      "outputs": []
    },
    {
      "cell_type": "markdown",
      "metadata": {
        "id": "5O40nKZgd0Fi"
      },
      "source": [
        "Data Set"
      ]
    },
    {
      "cell_type": "code",
      "metadata": {
        "id": "EJ1tRCEHdYZ2"
      },
      "source": [
        "BITSTREAMVERA = pd.read_csv(\"https://raw.githubusercontent.com/CharlesColgan/MSDS-6350-6373-CODE/master/hw2/BITSTREAMVERA.csv\")\n",
        "\n",
        "CONSOLAS = pd.read_csv(\"https://raw.githubusercontent.com/CharlesColgan/MSDS-6350-6373-CODE/master/hw2/CONSOLAS.csv\")\n",
        "\n",
        "EBRIMA = pd.read_csv(\"https://raw.githubusercontent.com/CharlesColgan/MSDS-6350-6373-CODE/master/hw2/EBRIMA.csv\")"
      ],
      "execution_count": 2,
      "outputs": []
    },
    {
      "cell_type": "markdown",
      "metadata": {
        "id": "uBuPq6k4il5e"
      },
      "source": [
        "Cleaning and Sorting"
      ]
    },
    {
      "cell_type": "code",
      "metadata": {
        "id": "v1oIjmecfQPN"
      },
      "source": [
        "drop_names = [\"fontVariant\", \"m_label\", \"orientation\", \"m_top\", \"m_left\", \"originalH\", \"originalW\", \"h\", \"w\"]\n",
        "\n",
        "CL1 = BITSTREAMVERA.dropna()\n",
        "\n",
        "CL1.drop(columns = drop_names, inplace = True)\n",
        "\n",
        "CL1.drop(CL1[(CL1[\"strength\"] != 0.4) | (CL1[\"italic\"] != 0)].index, inplace = True)\n",
        "\n",
        "CL2 = CONSOLAS.dropna()\n",
        "\n",
        "CL2.drop(columns = drop_names, inplace = True)\n",
        "\n",
        "CL2.drop(CL2[(CL2[\"strength\"] != 0.4) | (CL2[\"italic\"] != 0)].index, inplace = True)\n",
        "\n",
        "CL3 = EBRIMA.dropna()\n",
        "\n",
        "CL3.drop(columns = drop_names, inplace = True)\n",
        "\n",
        "CL3.drop(CL3[(CL3[\"strength\"] != 0.4) | (CL3[\"italic\"] != 0)].index, inplace = True)\n",
        "\n",
        "DATA = pd.concat([CL1, CL2, CL3], ignore_index=True)"
      ],
      "execution_count": 3,
      "outputs": []
    },
    {
      "cell_type": "markdown",
      "metadata": {
        "id": "CkEj1bThLex6"
      },
      "source": [
        "Standardize"
      ]
    },
    {
      "cell_type": "code",
      "metadata": {
        "id": "VVsH7BmnQvgC"
      },
      "source": [
        "for cl in [CL1, CL2, CL3]:\n",
        "    cl[cl.columns[3:]] = pd.DataFrame(StandardScaler().fit_transform(cl[cl.columns[3:]]))\n",
        "SDATA = pd.concat([CL1,CL2,CL3], ignore_index=True)"
      ],
      "execution_count": 4,
      "outputs": []
    },
    {
      "cell_type": "markdown",
      "metadata": {
        "id": "WjXHvSqNr3YB"
      },
      "source": [
        "#PCA\n"
      ]
    },
    {
      "cell_type": "markdown",
      "metadata": {
        "id": "uJEEF6Fxr8BC"
      },
      "source": [
        "correlation matrix"
      ]
    },
    {
      "cell_type": "code",
      "metadata": {
        "id": "EACPoLcVKTjV"
      },
      "source": [
        "CORR = DATA[3:].corr()"
      ],
      "execution_count": 5,
      "outputs": []
    },
    {
      "cell_type": "markdown",
      "metadata": {
        "id": "hEe4lDI1r-vI"
      },
      "source": [
        "eigenvalues/vectors"
      ]
    },
    {
      "cell_type": "code",
      "metadata": {
        "id": "Y6hRHvUWsBB2"
      },
      "source": [
        ""
      ],
      "execution_count": null,
      "outputs": []
    },
    {
      "cell_type": "markdown",
      "metadata": {
        "id": "JZXHyLDssD6J"
      },
      "source": [
        "create new dataset"
      ]
    },
    {
      "cell_type": "code",
      "metadata": {
        "id": "WIyQAhuIsEuB"
      },
      "source": [
        ""
      ],
      "execution_count": null,
      "outputs": []
    },
    {
      "cell_type": "markdown",
      "metadata": {
        "id": "g2UybSnksFH1"
      },
      "source": [
        "#re-classifying the new data"
      ]
    },
    {
      "cell_type": "markdown",
      "metadata": {
        "id": "7sxBRfFDsICW"
      },
      "source": [
        "classes"
      ]
    },
    {
      "cell_type": "code",
      "metadata": {
        "id": "ADCvyu0ssJU8"
      },
      "source": [
        ""
      ],
      "execution_count": null,
      "outputs": []
    },
    {
      "cell_type": "markdown",
      "metadata": {
        "id": "mhqpxUwCsL9i"
      },
      "source": [
        "assign selections ~20% of each class"
      ]
    },
    {
      "cell_type": "code",
      "metadata": {
        "id": "FBKeR273sMp8"
      },
      "source": [
        ""
      ],
      "execution_count": null,
      "outputs": []
    },
    {
      "cell_type": "markdown",
      "metadata": {
        "id": "xR3crIlasOyx"
      },
      "source": [
        "define test&training sets"
      ]
    },
    {
      "cell_type": "code",
      "metadata": {
        "id": "gMTAgId_sPbn"
      },
      "source": [
        "#create train/test set\r\n",
        "train, test = train_test_split(SDATA, test_size=0.2, random_state=0)\r\n",
        "x_train = train.drop(['font','strength','italic'], axis=1)\r\n",
        "x_test = test.drop(['font','strength','italic'], axis=1)\r\n",
        "y_train = train['font']\r\n",
        "y_test = test['font']"
      ],
      "execution_count": 5,
      "outputs": []
    },
    {
      "cell_type": "markdown",
      "metadata": {
        "id": "qkroKx4-0_E_"
      },
      "source": [
        "#finding H0 and H*"
      ]
    },
    {
      "cell_type": "code",
      "metadata": {
        "id": "9bUjiNrV1GvJ",
        "colab": {
          "base_uri": "https://localhost:8080/",
          "height": 1000
        },
        "outputId": "b45bbe91-859f-4faa-b739-eae19eb005c7"
      },
      "source": [
        "#H0:\r\n",
        "pca = PCA(n_components=400)\r\n",
        "pca.fit_transform(SDATA[SDATA.columns[3:]])\r\n",
        "pev = pca.explained_variance_ratio_.cumsum()\r\n",
        "h0 = np.where(pev>=0.95)[0][0]+1\r\n",
        "plt.plot(pev, 'o'); plt.ylabel('PEV'); plt.xlabel('k'); plt.show() #plot PVE\r\n",
        "\r\n",
        "#H*:\r\n",
        "hi = []\r\n",
        "for i in [CL1, CL2, CL3]:\r\n",
        "  pca = PCA(n_components=400)\r\n",
        "  pca.fit_transform(i[i.columns[3:]])\r\n",
        "  pev = pca.explained_variance_ratio_.cumsum()\r\n",
        "  hi.append(np.where(pev>=0.99)[0][0]+1)\r\n",
        "  print(i['font'][0],'\\n')\r\n",
        "  plt.plot(pev, 'o'); plt.ylabel('PEV'); plt.xlabel('k'); plt.show() #plot PVE\r\n",
        "h_star = sum(hi)"
      ],
      "execution_count": 6,
      "outputs": [
        {
          "output_type": "display_data",
          "data": {
            "image/png": "[encoded data removed]",
            "text/plain": [
              "<Figure size 432x288 with 1 Axes>"
            ]
          },
          "metadata": {
            "tags": [],
            "needs_background": "light"
          }
        },
        {
          "output_type": "stream",
          "text": [
            "BITSTREAMVERA \n",
            "\n"
          ],
          "name": "stdout"
        },
        {
          "output_type": "display_data",
          "data": {
            "image/png": "[encoded data removed]",
            "text/plain": [
              "<Figure size 432x288 with 1 Axes>"
            ]
          },
          "metadata": {
            "tags": [],
            "needs_background": "light"
          }
        },
        {
          "output_type": "stream",
          "text": [
            "CONSOLAS \n",
            "\n"
          ],
          "name": "stdout"
        },
        {
          "output_type": "display_data",
          "data": {
            "image/png": "[encoded data removed]",
            "text/plain": [
              "<Figure size 432x288 with 1 Axes>"
            ]
          },
          "metadata": {
            "tags": [],
            "needs_background": "light"
          }
        },
        {
          "output_type": "stream",
          "text": [
            "EBRIMA \n",
            "\n"
          ],
          "name": "stdout"
        },
        {
          "output_type": "display_data",
          "data": {
            "image/png": "[encoded data removed]",
            "text/plain": [
              "<Figure size 432x288 with 1 Axes>"
            ]
          },
          "metadata": {
            "tags": [],
            "needs_background": "light"
          }
        }
      ]
    },
    {
      "cell_type": "markdown",
      "metadata": {
        "id": "PU842EBF1bQq"
      },
      "source": [
        "MLP0"
      ]
    },
    {
      "cell_type": "code",
      "metadata": {
        "id": "FUFdj3Q-1cpT",
        "colab": {
          "base_uri": "https://localhost:8080/",
          "height": 534
        },
        "outputId": "adf617ed-b35c-46ad-c6a4-663539ad5b6e"
      },
      "source": [
        "import tensorflow as tf\r\n",
        "from tensorflow import keras\r\n",
        "from tensorflow.keras import layers, callbacks\r\n",
        "tf.get_logger().setLevel('ERROR') #surpress logging \r\n",
        "\r\n",
        "def plotPerf(monitor):\r\n",
        "  plt.plot(monitor.model.history.history['loss'], label='Training loss')\r\n",
        "  plt.plot(monitor.model.history.history['val_loss'], label='Test loss')\r\n",
        "  plt.xlabel('Epoch'); plt.ylabel('Loss (CrossEntr)')\r\n",
        "  plt.legend(); plt.grid(True); plt.show()\r\n",
        "\r\n",
        "def ypred(x, model):\r\n",
        "  return list(map({0:'BITSTREAMVERA', 1:'CONSOLAS', 2:'EBRIMA'}.get, model.predict(x).argmax(axis=-1)))\r\n",
        "\r\n",
        "def conf(actu, pred):\r\n",
        "  y_actu = pd.Series(np.array(actu), name='Actual')\r\n",
        "  y_pred = pd.Series(pred, name='Predicted')\r\n",
        "  df_confusion = pd.crosstab(y_actu, y_pred)\r\n",
        "  return df_confusion/ df_confusion.sum()\r\n",
        "\r\n",
        "inputs = keras.Input(shape=(400,))\r\n",
        "x1 = layers.Dense(h0,activation=\"sigmoid\")(inputs)\r\n",
        "outputs = layers.Dense(3, activation=\"softmax\")(x1)\r\n",
        "model0 = keras.Model(inputs=inputs,outputs=outputs)\r\n",
        "#model0.summary()\r\n",
        "\r\n",
        "optimizer = keras.optimizers.Adam()\r\n",
        "loss_fn = keras.losses.SparseCategoricalCrossentropy()\r\n",
        "model0.compile(optimizer=optimizer,loss=loss_fn, metrics=['accuracy'])\r\n",
        "batch = round(len(train)**0.5)\r\n",
        "\r\n",
        "checkpoint=callbacks.ModelCheckpoint(filepath='BestModel.h0',monitor='val_accuracy',save_best_only=True)\r\n",
        "Monitor0 = model0.fit(x_train,y_train.astype('category').cat.codes,epochs=150, batch_size=batch,\r\n",
        "                      validation_data=(x_test,y_test.astype('category').cat.codes),callbacks=[checkpoint], verbose=0)\r\n",
        "\r\n",
        "print('MLP0:\\n')\r\n",
        "plotPerf(Monitor0) #visually find stabT, overfitT, stopT\r\n",
        "\r\n",
        "trainConf0 = conf(y_train, ypred(x_train, model0))\r\n",
        "print('MLP0 train:\\n', trainConf0)\r\n",
        "testConf0 = conf(y_test, ypred(x_test, model0))\r\n",
        "print('\\nMLP0 test:\\n', testConf0)\r\n"
      ],
      "execution_count": 7,
      "outputs": [
        {
          "output_type": "stream",
          "text": [
            "MLP0:\n",
            "\n"
          ],
          "name": "stdout"
        },
        {
          "output_type": "display_data",
          "data": {
            "image/png": "[encoded data removed]",
            "text/plain": [
              "<Figure size 432x288 with 1 Axes>"
            ]
          },
          "metadata": {
            "tags": [],
            "needs_background": "light"
          }
        },
        {
          "output_type": "stream",
          "text": [
            "MLP0 train:\n",
            " Predicted      BITSTREAMVERA  CONSOLAS  EBRIMA\n",
            "Actual                                        \n",
            "BITSTREAMVERA            1.0       0.0     0.0\n",
            "CONSOLAS                 0.0       1.0     0.0\n",
            "EBRIMA                   0.0       0.0     1.0\n",
            "\n",
            "MLP0 test:\n",
            " Predicted      BITSTREAMVERA  CONSOLAS    EBRIMA\n",
            "Actual                                          \n",
            "BITSTREAMVERA       0.984914  0.002004  0.006711\n",
            "CONSOLAS            0.002155  0.875752  0.110738\n",
            "EBRIMA              0.012931  0.122244  0.882550\n"
          ],
          "name": "stdout"
        }
      ]
    },
    {
      "cell_type": "markdown",
      "metadata": {
        "id": "QfBqKnf-1-tn"
      },
      "source": [
        "MLP*"
      ]
    },
    {
      "cell_type": "code",
      "metadata": {
        "id": "MatJWIUZ2AAL",
        "colab": {
          "base_uri": "https://localhost:8080/",
          "height": 534
        },
        "outputId": "e7139fe9-2174-4a52-d3d9-7a0e238795a1"
      },
      "source": [
        "#define sparsity regularization layer\r\n",
        "class SparsityRegularizationLayer(layers.Layer):\r\n",
        "  C = 0.01\r\n",
        "  Tar = 0.01\r\n",
        "  def call(self, inputs):\r\n",
        "    avAL = tf.reduce_mean(inputs)\r\n",
        "    self.add_loss(  self.C * (  -1*self.Tar*tf.math.log(avAL) + (self.Tar-1)*tf.math.log(1-avAL)  )  )\r\n",
        "    return inputs\r\n",
        "\r\n",
        "inputs = keras.Input(shape=(400,))\r\n",
        "x1 = layers.Dense(h_star,activation=\"sigmoid\")(inputs)\r\n",
        "x1 = SparsityRegularizationLayer()(x1)\r\n",
        "outputs = layers.Dense(3, activation=\"softmax\")(x1)\r\n",
        "modelh = keras.Model(inputs=inputs,outputs=outputs)\r\n",
        "checkpoint=callbacks.ModelCheckpoint(filepath='BestModel.hstar',monitor='val_accuracy',save_best_only=True)\r\n",
        "\r\n",
        "modelh.compile(optimizer=optimizer,loss=loss_fn, metrics=['accuracy'])\r\n",
        "Monitorh = modelh.fit(x_train,y_train.astype('category').cat.codes,epochs=150, batch_size=batch,\r\n",
        "                      validation_data=(x_test,y_test.astype('category').cat.codes),callbacks=[checkpoint], verbose=0)\r\n",
        "\r\n",
        "print('MLP*:\\n')\r\n",
        "plotPerf(Monitorh) #visually find stabT, overfitT, stopT\r\n",
        "\r\n",
        "trainConfh = conf(y_train, ypred(x_train, modelh))\r\n",
        "print('MLP* train:\\n', trainConfh)\r\n",
        "testConfh = conf(y_test, ypred(x_test, modelh))\r\n",
        "print('\\nMLP* test:\\n', testConfh)\r\n",
        "\r\n",
        "#compare two sparsity levels?"
      ],
      "execution_count": 8,
      "outputs": [
        {
          "output_type": "stream",
          "text": [
            "MLP*:\n",
            "\n"
          ],
          "name": "stdout"
        },
        {
          "output_type": "display_data",
          "data": {
            "image/png": "[encoded data removed]",
            "text/plain": [
              "<Figure size 432x288 with 1 Axes>"
            ]
          },
          "metadata": {
            "tags": [],
            "needs_background": "light"
          }
        },
        {
          "output_type": "stream",
          "text": [
            "MLP* train:\n",
            " Predicted      BITSTREAMVERA  CONSOLAS    EBRIMA\n",
            "Actual                                          \n",
            "BITSTREAMVERA            1.0  0.002767  0.000711\n",
            "CONSOLAS                 0.0  0.992252  0.014936\n",
            "EBRIMA                   0.0  0.004981  0.984353\n",
            "\n",
            "MLP* test:\n",
            " Predicted      BITSTREAMVERA  CONSOLAS    EBRIMA\n",
            "Actual                                          \n",
            "BITSTREAMVERA       0.987013  0.002183  0.008798\n",
            "CONSOLAS            0.006494  0.899563  0.164223\n",
            "EBRIMA              0.006494  0.098253  0.826979\n"
          ],
          "name": "stdout"
        }
      ]
    }
  ]
}