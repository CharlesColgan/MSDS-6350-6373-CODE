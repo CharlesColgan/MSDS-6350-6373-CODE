{
  "nbformat": 4,
  "nbformat_minor": 0,
  "metadata": {
    "colab": {
      "name": "Untitled0.ipynb",
      "provenance": []
    },
    "kernelspec": {
      "name": "python3",
      "display_name": "Python 3"
    }
  },
  "cells": [
    {
      "cell_type": "markdown",
      "metadata": {
        "id": "CG4-0Pt9dVIX"
      },
      "source": [
        "Packages"
      ]
    },
    {
      "cell_type": "code",
      "metadata": {
        "id": "yuUYKw2Ub_1i"
      },
      "source": [
        "import pandas as pd\n",
        "import numpy as np\n",
        "import functools "
      ],
      "execution_count": 139,
      "outputs": []
    },
    {
      "cell_type": "markdown",
      "metadata": {
        "id": "5O40nKZgd0Fi"
      },
      "source": [
        "Data Set"
      ]
    },
    {
      "cell_type": "code",
      "metadata": {
        "id": "EJ1tRCEHdYZ2"
      },
      "source": [
        "BITSTREAMVERA = pd.read_csv(\"https://raw.githubusercontent.com/CharlesColgan/MSDS-6350-6373-CODE/master/hw2/BITSTREAMVERA.csv\")\n",
        "\n",
        "CONSOLAS = pd.read_csv(\"https://raw.githubusercontent.com/CharlesColgan/MSDS-6350-6373-CODE/master/hw2/CONSOLAS.csv\")\n",
        "\n",
        "EBRIMA = pd.read_csv(\"https://raw.githubusercontent.com/CharlesColgan/MSDS-6350-6373-CODE/master/hw2/EBRIMA.csv\")"
      ],
      "execution_count": 140,
      "outputs": []
    },
    {
      "cell_type": "markdown",
      "metadata": {
        "id": "uBuPq6k4il5e"
      },
      "source": [
        "Cleaning and Sorting"
      ]
    },
    {
      "cell_type": "code",
      "metadata": {
        "id": "v1oIjmecfQPN"
      },
      "source": [
        "drop_names = [\"fontVariant\", \"m_label\", \"orientation\", \"m_top\", \"m_left\", \"originalH\", \"originalW\", \"h\", \"w\"]\n",
        "\n",
        "CL2 = BITSTREAMVERA.dropna().drop(columns = drop_names).drop(BITSTREAMVERA[(BITSTREAMVERA[\"strength\"] != 0.4) & (BITSTREAMVERA[\"italic\"] != 0)].index)\n",
        "\n",
        "CL2 = CONSOLAS.dropna().drop(columns = drop_names).drop(CONSOLAS[(CONSOLAS[\"strength\"] != 0.4) & (CONSOLAS[\"italic\"] != 0)].index)\n",
        "\n",
        "CL3 = EBRIMA.dropna().drop(columns = drop_names).drop(EBRIMA[(EBRIMA[\"strength\"] != 0.4) & (EBRIMA[\"italic\"] != 0)].index)\n",
        "\n",
        "DATA = pd.concat([CL1, CL2, CL3])"
      ],
      "execution_count": 141,
      "outputs": []
    },
    {
      "cell_type": "markdown",
      "metadata": {
        "id": "OtELvca4r1eA"
      },
      "source": [
        "Mean and StD"
      ]
    },
    {
      "cell_type": "code",
      "metadata": {
        "id": "5_RSwYbir3L8"
      },
      "source": [
        "m = DATA[3:].mean(1)\n",
        "\n",
        "s = DATA[3:].std(1)"
      ],
      "execution_count": 148,
      "outputs": []
    },
    {
      "cell_type": "markdown",
      "metadata": {
        "id": "WjXHvSqNr3YB"
      },
      "source": [
        "#PCA\n"
      ]
    },
    {
      "cell_type": "markdown",
      "metadata": {
        "id": "uJEEF6Fxr8BC"
      },
      "source": [
        "correlation matrix"
      ]
    },
    {
      "cell_type": "markdown",
      "metadata": {
        "id": "hEe4lDI1r-vI"
      },
      "source": [
        "eigenvalues/vectors"
      ]
    },
    {
      "cell_type": "code",
      "metadata": {
        "id": "Y6hRHvUWsBB2"
      },
      "source": [
        ""
      ],
      "execution_count": null,
      "outputs": []
    },
    {
      "cell_type": "markdown",
      "metadata": {
        "id": "JZXHyLDssD6J"
      },
      "source": [
        "create new dataset"
      ]
    },
    {
      "cell_type": "code",
      "metadata": {
        "id": "WIyQAhuIsEuB"
      },
      "source": [
        ""
      ],
      "execution_count": null,
      "outputs": []
    },
    {
      "cell_type": "markdown",
      "metadata": {
        "id": "g2UybSnksFH1"
      },
      "source": [
        "#re-classifying the new data"
      ]
    },
    {
      "cell_type": "markdown",
      "metadata": {
        "id": "7sxBRfFDsICW"
      },
      "source": [
        "classes"
      ]
    },
    {
      "cell_type": "code",
      "metadata": {
        "id": "ADCvyu0ssJU8"
      },
      "source": [
        ""
      ],
      "execution_count": null,
      "outputs": []
    },
    {
      "cell_type": "markdown",
      "metadata": {
        "id": "mhqpxUwCsL9i"
      },
      "source": [
        "assign selections ~20% of each class"
      ]
    },
    {
      "cell_type": "code",
      "metadata": {
        "id": "FBKeR273sMp8"
      },
      "source": [
        ""
      ],
      "execution_count": null,
      "outputs": []
    },
    {
      "cell_type": "markdown",
      "metadata": {
        "id": "xR3crIlasOyx"
      },
      "source": [
        "define test&training sets"
      ]
    },
    {
      "cell_type": "code",
      "metadata": {
        "id": "gMTAgId_sPbn"
      },
      "source": [
        ""
      ],
      "execution_count": null,
      "outputs": []
    }
  ]
}