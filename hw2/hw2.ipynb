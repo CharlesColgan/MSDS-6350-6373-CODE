{
  "nbformat": 4,
  "nbformat_minor": 0,
  "metadata": {
    "colab": {
      "name": "Untitled0.ipynb",
      "provenance": [],
      "toc_visible": true,
      "include_colab_link": true
    },
    "kernelspec": {
      "name": "python3",
      "display_name": "Python 3"
    }
  },
  "cells": [
    {
      "cell_type": "markdown",
      "metadata": {
        "id": "view-in-github",
        "colab_type": "text"
      },
      "source": [
        "<a href=\"https://colab.research.google.com/github/sul01/MSDS-CODE/blob/master/hw2/hw2.ipynb\" target=\"_parent\"><img src=\"https://colab.research.google.com/assets/colab-badge.svg\" alt=\"Open In Colab\"/></a>"
      ]
    },
    {
      "cell_type": "markdown",
      "metadata": {
        "id": "CG4-0Pt9dVIX"
      },
      "source": [
        "Packages"
      ]
    },
    {
      "cell_type": "code",
      "metadata": {
        "id": "yuUYKw2Ub_1i"
      },
      "source": [
        "import pandas as pd\n",
        "import numpy as np\n",
        "import functools\n",
        "import sklearn as sk\n",
        "from sklearn.preprocessing import StandardScaler\n",
        "from sklearn.model_selection import train_test_split\n",
        "from sklearn.decomposition import PCA\n",
        "import matplotlib.pyplot as plt"
      ],
      "execution_count": 27,
      "outputs": []
    },
    {
      "cell_type": "markdown",
      "metadata": {
        "id": "5O40nKZgd0Fi"
      },
      "source": [
        "Data Set"
      ]
    },
    {
      "cell_type": "code",
      "metadata": {
        "id": "EJ1tRCEHdYZ2"
      },
      "source": [
        "BITSTREAMVERA = pd.read_csv(\"https://raw.githubusercontent.com/CharlesColgan/MSDS-6350-6373-CODE/master/hw2/BITSTREAMVERA.csv\")\n",
        "\n",
        "CONSOLAS = pd.read_csv(\"https://raw.githubusercontent.com/CharlesColgan/MSDS-6350-6373-CODE/master/hw2/CONSOLAS.csv\")\n",
        "\n",
        "EBRIMA = pd.read_csv(\"https://raw.githubusercontent.com/CharlesColgan/MSDS-6350-6373-CODE/master/hw2/EBRIMA.csv\")"
      ],
      "execution_count": 28,
      "outputs": []
    },
    {
      "cell_type": "markdown",
      "metadata": {
        "id": "uBuPq6k4il5e"
      },
      "source": [
        "Cleaning and Sorting"
      ]
    },
    {
      "cell_type": "code",
      "metadata": {
        "id": "v1oIjmecfQPN"
      },
      "source": [
        "drop_names = [\"fontVariant\", \"m_label\", \"orientation\", \"m_top\", \"m_left\", \"originalH\", \"originalW\", \"h\", \"w\"]\n",
        "\n",
        "CL1 = BITSTREAMVERA.dropna()\n",
        "\n",
        "CL1.drop(columns = drop_names, inplace = True)\n",
        "\n",
        "CL1.drop(CL1[(CL1[\"strength\"] != 0.4) | (CL1[\"italic\"] != 0)].index, inplace = True)\n",
        "\n",
        "CL2 = CONSOLAS.dropna()\n",
        "\n",
        "CL2.drop(columns = drop_names, inplace = True)\n",
        "\n",
        "CL2.drop(CL2[(CL2[\"strength\"] != 0.4) | (CL2[\"italic\"] != 0)].index, inplace = True)\n",
        "\n",
        "CL3 = EBRIMA.dropna()\n",
        "\n",
        "CL3.drop(columns = drop_names, inplace = True)\n",
        "\n",
        "CL3.drop(CL3[(CL3[\"strength\"] != 0.4) | (CL3[\"italic\"] != 0)].index, inplace = True)\n",
        "\n",
        "DATA = pd.concat([CL1, CL2, CL3], ignore_index=True)"
      ],
      "execution_count": 29,
      "outputs": []
    },
    {
      "cell_type": "markdown",
      "metadata": {
        "id": "CkEj1bThLex6"
      },
      "source": [
        "Standardize"
      ]
    },
    {
      "cell_type": "code",
      "metadata": {
        "id": "VVsH7BmnQvgC"
      },
      "source": [
        "for cl in [CL1, CL2, CL3]:\n",
        "    cl[cl.columns[3:]] = pd.DataFrame(StandardScaler().fit_transform(cl[cl.columns[3:]]))\n",
        "SDATA = pd.concat([CL1,CL2,CL3], ignore_index=True)"
      ],
      "execution_count": 30,
      "outputs": []
    },
    {
      "cell_type": "markdown",
      "metadata": {
        "id": "WjXHvSqNr3YB"
      },
      "source": [
        "#PCA\n"
      ]
    },
    {
      "cell_type": "markdown",
      "metadata": {
        "id": "uJEEF6Fxr8BC"
      },
      "source": [
        "correlation matrix"
      ]
    },
    {
      "cell_type": "code",
      "metadata": {
        "id": "EACPoLcVKTjV"
      },
      "source": [
        "CORR = DATA[3:].corr()"
      ],
      "execution_count": null,
      "outputs": []
    },
    {
      "cell_type": "markdown",
      "metadata": {
        "id": "hEe4lDI1r-vI"
      },
      "source": [
        "eigenvalues/vectors"
      ]
    },
    {
      "cell_type": "code",
      "metadata": {
        "id": "Y6hRHvUWsBB2"
      },
      "source": [
        ""
      ],
      "execution_count": null,
      "outputs": []
    },
    {
      "cell_type": "markdown",
      "metadata": {
        "id": "JZXHyLDssD6J"
      },
      "source": [
        "create new dataset"
      ]
    },
    {
      "cell_type": "code",
      "metadata": {
        "id": "WIyQAhuIsEuB"
      },
      "source": [
        ""
      ],
      "execution_count": null,
      "outputs": []
    },
    {
      "cell_type": "markdown",
      "metadata": {
        "id": "g2UybSnksFH1"
      },
      "source": [
        "#re-classifying the new data"
      ]
    },
    {
      "cell_type": "markdown",
      "metadata": {
        "id": "7sxBRfFDsICW"
      },
      "source": [
        "classes"
      ]
    },
    {
      "cell_type": "code",
      "metadata": {
        "id": "ADCvyu0ssJU8"
      },
      "source": [
        ""
      ],
      "execution_count": null,
      "outputs": []
    },
    {
      "cell_type": "markdown",
      "metadata": {
        "id": "mhqpxUwCsL9i"
      },
      "source": [
        "assign selections ~20% of each class"
      ]
    },
    {
      "cell_type": "code",
      "metadata": {
        "id": "FBKeR273sMp8"
      },
      "source": [
        ""
      ],
      "execution_count": null,
      "outputs": []
    },
    {
      "cell_type": "markdown",
      "metadata": {
        "id": "xR3crIlasOyx"
      },
      "source": [
        "define test&training sets"
      ]
    },
    {
      "cell_type": "code",
      "metadata": {
        "id": "gMTAgId_sPbn"
      },
      "source": [
        "#create train/test set\r\n",
        "train, test = train_test_split(SDATA, test_size=0.2, random_state=0)\r\n",
        "x_train = train.drop(['font','strength','italic'], axis=1)\r\n",
        "x_test = test.drop(['font','strength','italic'], axis=1)\r\n",
        "y_train = train['font']\r\n",
        "y_test = test['font']"
      ],
      "execution_count": 31,
      "outputs": []
    },
    {
      "cell_type": "markdown",
      "metadata": {
        "id": "qkroKx4-0_E_"
      },
      "source": [
        "#finding H0 and H*"
      ]
    },
    {
      "cell_type": "code",
      "metadata": {
        "id": "9bUjiNrV1GvJ",
        "colab": {
          "base_uri": "https://localhost:8080/",
          "height": 1000
        },
        "outputId": "8906e3fd-554b-4c90-fbda-19ee2d4f9aba"
      },
      "source": [
        "#H0:\r\n",
        "pca = PCA(n_components=400)\r\n",
        "pca.fit_transform(SDATA[SDATA.columns[3:]])\r\n",
        "pev = pca.explained_variance_ratio_.cumsum()\r\n",
        "h0 = np.where(pev>=0.95)[0][0]+1\r\n",
        "plt.plot(pev, 'o'); plt.ylabel('PEV'); plt.xlabel('h'); plt.show() #plot PVE\r\n",
        "\r\n",
        "#H*:\r\n",
        "hi = []\r\n",
        "for i in [CL1, CL2, CL3]:\r\n",
        "  pca = PCA(n_components=400)\r\n",
        "  pca.fit_transform(i[i.columns[3:]])\r\n",
        "  pev = pca.explained_variance_ratio_.cumsum()\r\n",
        "  hi.append(np.where(pev>=0.99)[0][0]+1)\r\n",
        "  print(i['font'][0],'\\n')\r\n",
        "  plt.plot(pev, 'o'); plt.ylabel('PEV'); plt.xlabel('h'); plt.show() #plot PVE\r\n",
        "h_star = sum(hi)"
      ],
      "execution_count": 32,
      "outputs": [
        {
          "output_type": "display_data",
          "data": {
            "image/png": "[encoded data removed]",
            "text/plain": [
              "<Figure size 432x288 with 1 Axes>"
            ]
          },
          "metadata": {
            "tags": [],
            "needs_background": "light"
          }
        },
        {
          "output_type": "stream",
          "text": [
            "BITSTREAMVERA \n",
            "\n"
          ],
          "name": "stdout"
        },
        {
          "output_type": "display_data",
          "data": {
            "image/png": "[encoded data removed]",
            "text/plain": [
              "<Figure size 432x288 with 1 Axes>"
            ]
          },
          "metadata": {
            "tags": [],
            "needs_background": "light"
          }
        },
        {
          "output_type": "stream",
          "text": [
            "CONSOLAS \n",
            "\n"
          ],
          "name": "stdout"
        },
        {
          "output_type": "display_data",
          "data": {
            "image/png": "[encoded data removed]",
            "text/plain": [
              "<Figure size 432x288 with 1 Axes>"
            ]
          },
          "metadata": {
            "tags": [],
            "needs_background": "light"
          }
        },
        {
          "output_type": "stream",
          "text": [
            "EBRIMA \n",
            "\n"
          ],
          "name": "stdout"
        },
        {
          "output_type": "display_data",
          "data": {
            "image/png": "[encoded data removed]",
            "text/plain": [
              "<Figure size 432x288 with 1 Axes>"
            ]
          },
          "metadata": {
            "tags": [],
            "needs_background": "light"
          }
        }
      ]
    },
    {
      "cell_type": "markdown",
      "metadata": {
        "id": "PU842EBF1bQq"
      },
      "source": [
        "MLP0"
      ]
    },
    {
      "cell_type": "code",
      "metadata": {
        "id": "FUFdj3Q-1cpT",
        "colab": {
          "base_uri": "https://localhost:8080/",
          "height": 534
        },
        "outputId": "f8edc8a7-0edb-4fc8-a921-28444f633f20"
      },
      "source": [
        "import tensorflow as tf\r\n",
        "from tensorflow import keras\r\n",
        "from tensorflow.keras import layers, callbacks\r\n",
        "from tensorflow.keras.models import load_model\r\n",
        "tf.get_logger().setLevel('ERROR') #surpress logging \r\n",
        "\r\n",
        "def plotPerf(monitor):\r\n",
        "  plt.plot(monitor.model.history.history['loss'], label='Training loss')\r\n",
        "  plt.plot(monitor.model.history.history['val_loss'], label='Test loss')\r\n",
        "  plt.xlabel('Epoch'); plt.ylabel('Loss (CrossEntr)')\r\n",
        "  plt.legend(); plt.grid(True); plt.show()\r\n",
        "\r\n",
        "def ypred(x, model):\r\n",
        "  return list(map({0:'BITSTREAMVERA', 1:'CONSOLAS', 2:'EBRIMA'}.get, model.predict(x).argmax(axis=-1)))\r\n",
        "\r\n",
        "def conf(actu, pred):\r\n",
        "  y_actu = pd.Series(np.array(actu), name='Actual')\r\n",
        "  y_pred = pd.Series(pred, name='Predicted')\r\n",
        "  df_confusion = pd.crosstab(y_actu, y_pred)\r\n",
        "  return df_confusion/ df_confusion.sum()\r\n",
        "\r\n",
        "inputs = keras.Input(shape=(400,))\r\n",
        "x1 = layers.Dense(h0,activation=\"sigmoid\")(inputs)\r\n",
        "outputs = layers.Dense(3, activation=\"softmax\")(x1)\r\n",
        "model0 = keras.Model(inputs=inputs,outputs=outputs)\r\n",
        "#model0.summary()\r\n",
        "\r\n",
        "optimizer = keras.optimizers.Adam()\r\n",
        "loss_fn = keras.losses.SparseCategoricalCrossentropy()\r\n",
        "model0.compile(optimizer=optimizer,loss=loss_fn, metrics=['accuracy'])\r\n",
        "batch = round(len(train)**0.5)\r\n",
        "\r\n",
        "checkpoint=callbacks.ModelCheckpoint(filepath='BestModel_h0',monitor='val_accuracy',save_best_only=True)\r\n",
        "Monitor0 = model0.fit(x_train,y_train.astype('category').cat.codes,epochs=150, batch_size=batch,\r\n",
        "                      validation_data=(x_test,y_test.astype('category').cat.codes),callbacks=[checkpoint], verbose=0)\r\n",
        "\r\n",
        "print('MLP0:\\n')\r\n",
        "plotPerf(Monitor0) #visually find stabT, overfitT, stopT\r\n",
        "\r\n",
        "trainConf0 = conf(y_train, ypred(x_train, Monitor0.model))\r\n",
        "print('MLP0 train:\\n', trainConf0)\r\n",
        "testConf0 = conf(y_test, ypred(x_test, Monitor0.model))\r\n",
        "print('\\nMLP0 test:\\n', testConf0)\r\n"
      ],
      "execution_count": 33,
      "outputs": [
        {
          "output_type": "stream",
          "text": [
            "MLP0:\n",
            "\n"
          ],
          "name": "stdout"
        },
        {
          "output_type": "display_data",
          "data": {
            "image/png": "[encoded data removed]",
            "text/plain": [
              "<Figure size 432x288 with 1 Axes>"
            ]
          },
          "metadata": {
            "tags": [],
            "needs_background": "light"
          }
        },
        {
          "output_type": "stream",
          "text": [
            "MLP0 train:\n",
            " Predicted      BITSTREAMVERA  CONSOLAS  EBRIMA\n",
            "Actual                                        \n",
            "BITSTREAMVERA            1.0       0.0     0.0\n",
            "CONSOLAS                 0.0       1.0     0.0\n",
            "EBRIMA                   0.0       0.0     1.0\n",
            "\n",
            "MLP0 test:\n",
            " Predicted      BITSTREAMVERA  CONSOLAS    EBRIMA\n",
            "Actual                                          \n",
            "BITSTREAMVERA       0.987013  0.004057  0.006536\n",
            "CONSOLAS            0.006494  0.868154  0.130719\n",
            "EBRIMA              0.006494  0.127789  0.862745\n"
          ],
          "name": "stdout"
        }
      ]
    },
    {
      "cell_type": "markdown",
      "metadata": {
        "id": "QfBqKnf-1-tn"
      },
      "source": [
        "MLP*"
      ]
    },
    {
      "cell_type": "code",
      "metadata": {
        "id": "MatJWIUZ2AAL",
        "colab": {
          "base_uri": "https://localhost:8080/",
          "height": 534
        },
        "outputId": "abc91f4b-ca01-4183-e72f-02a45162bd4b"
      },
      "source": [
        "#define sparsity regularization layer\r\n",
        "class SparsityRegularizationLayer(layers.Layer):\r\n",
        "  def __init__(self, C=0.01, Tar=0.01, **kwargs):\r\n",
        "        super().__init__(**kwargs)\r\n",
        "        self.C = C\r\n",
        "        self.Tar = Tar\r\n",
        "  def call(self, inputs):\r\n",
        "    avAL = tf.reduce_mean(inputs)\r\n",
        "    self.add_loss(  self.C * (  -1*self.Tar*tf.math.log(avAL) + (self.Tar-1)*tf.math.log(1-avAL)  )  )\r\n",
        "    return inputs\r\n",
        "  def get_config(self):\r\n",
        "\r\n",
        "        config = super().get_config().copy()\r\n",
        "        config.update({\r\n",
        "            'C': self.C,\r\n",
        "            'Tar': self.Tar,\r\n",
        "        })\r\n",
        "        return config\r\n",
        "\r\n",
        "inputs = keras.Input(shape=(400,))\r\n",
        "x1 = layers.Dense(h_star,activation=\"sigmoid\")(inputs)\r\n",
        "x1 = SparsityRegularizationLayer(0.01)(x1)\r\n",
        "outputs = layers.Dense(3, activation=\"softmax\")(x1)\r\n",
        "modelh = keras.Model(inputs=inputs,outputs=outputs)\r\n",
        "checkpoint=callbacks.ModelCheckpoint(filepath='BestModel_hstar',monitor='val_accuracy',save_best_only=True)\r\n",
        "\r\n",
        "modelh.compile(optimizer=optimizer,loss=loss_fn, metrics=['accuracy'])\r\n",
        "Monitorh = modelh.fit(x_train,y_train.astype('category').cat.codes,epochs=150, batch_size=batch,\r\n",
        "                      validation_data=(x_test,y_test.astype('category').cat.codes),callbacks=[checkpoint], verbose=0)\r\n",
        "\r\n",
        "print('MLP*:\\n')\r\n",
        "plotPerf(Monitorh) #visually find stabT, overfitT, stopT\r\n",
        "\r\n",
        "trainConfh = conf(y_train, ypred(x_train, Monitorh.model))\r\n",
        "print('MLP* train:\\n', trainConfh)\r\n",
        "testConfh = conf(y_test, ypred(x_test, Monitorh.model))\r\n",
        "print('\\nMLP* test:\\n', testConfh)\r\n",
        "\r\n",
        "#compare two sparsity levels?"
      ],
      "execution_count": 34,
      "outputs": [
        {
          "output_type": "stream",
          "text": [
            "MLP*:\n",
            "\n"
          ],
          "name": "stdout"
        },
        {
          "output_type": "display_data",
          "data": {
            "image/png": "[encoded data removed]",
            "text/plain": [
              "<Figure size 432x288 with 1 Axes>"
            ]
          },
          "metadata": {
            "tags": [],
            "needs_background": "light"
          }
        },
        {
          "output_type": "stream",
          "text": [
            "MLP* train:\n",
            " Predicted      BITSTREAMVERA  CONSOLAS  EBRIMA\n",
            "Actual                                        \n",
            "BITSTREAMVERA            1.0       0.0     0.0\n",
            "CONSOLAS                 0.0       1.0     0.0\n",
            "EBRIMA                   0.0       0.0     1.0\n",
            "\n",
            "MLP* test:\n",
            " Predicted      BITSTREAMVERA  CONSOLAS    EBRIMA\n",
            "Actual                                          \n",
            "BITSTREAMVERA       0.995652   0.00000  0.006601\n",
            "CONSOLAS            0.000000   0.88755  0.095710\n",
            "EBRIMA              0.004348   0.11245  0.897690\n"
          ],
          "name": "stdout"
        }
      ]
    },
    {
      "cell_type": "markdown",
      "metadata": {
        "id": "TnEe_3HIUWmP"
      },
      "source": [
        "#MLP* Activity"
      ]
    },
    {
      "cell_type": "code",
      "metadata": {
        "id": "xhg08HMRUbr4",
        "colab": {
          "base_uri": "https://localhost:8080/",
          "height": 52
        },
        "outputId": "0404ee2c-337e-4d35-fff0-da6fdc9b2d16"
      },
      "source": [
        "modelh = load_model('BestModel_hstar')\r\n",
        "#activity = ???\r\n",
        "'''\r\n",
        "ACTn = np.mean(activity, axis=1)\r\n",
        "pd.Series(ACTn).plot.hist()\r\n",
        "\r\n",
        "avact = np.mean(ACTn)\r\n",
        "stdact = np.std(ACTn)\r\n",
        "\r\n",
        "per_half = sum(ACTn < avact/2)/len(ACTn)\r\n",
        "per_third = sum(ACTn < avact/3)/len(ACTn)\r\n",
        "'''"
      ],
      "execution_count": 35,
      "outputs": [
        {
          "output_type": "execute_result",
          "data": {
            "application/vnd.google.colaboratory.intrinsic+json": {
              "type": "string"
            },
            "text/plain": [
              "'\\nACTn = np.mean(activity, axis=1)\\npd.Series(ACTn).plot.hist()\\n\\navact = np.mean(ACTn)\\nstdact = np.std(ACTn)\\n\\nper_half = sum(ACTn < avact/2)/len(ACTn)\\nper_third = sum(ACTn < avact/3)/len(ACTn)\\n'"
            ]
          },
          "metadata": {
            "tags": []
          },
          "execution_count": 35
        }
      ]
    },
    {
      "cell_type": "markdown",
      "metadata": {
        "id": "-W1IJqcFVwbt"
      },
      "source": [
        "#Autoencoder"
      ]
    },
    {
      "cell_type": "markdown",
      "metadata": {
        "id": "X6X7fYeoV8e7"
      },
      "source": [
        "PCA on zn to get size s"
      ]
    },
    {
      "cell_type": "code",
      "metadata": {
        "id": "qRaEqH-7V2hH"
      },
      "source": [
        "zn = modelh.layers[1](np.array(SDATA[SDATA.columns[3:]])).numpy() #Xn -> Zn:\r\n",
        "pca = PCA(n_components=zn.shape[1])\r\n",
        "pca.fit_transform(zn)\r\n",
        "pev = pca.explained_variance_ratio_.cumsum()\r\n",
        "s = np.where(pev>=0.95)[0][0]+1\r\n",
        "#plt.plot(pev, 'o'); plt.ylabel('PEV'); plt.xlabel('s'); plt.show() #plot PVE\r\n"
      ],
      "execution_count": 36,
      "outputs": []
    },
    {
      "cell_type": "markdown",
      "metadata": {
        "id": "_PKrmZtKV7td"
      },
      "source": [
        "Build autoencoder"
      ]
    },
    {
      "cell_type": "code",
      "metadata": {
        "id": "6RRL0Gd7WLHk"
      },
      "source": [
        "z_test = modelh.layers[1](np.array(x_test)).numpy()\r\n",
        "z_train = modelh.layers[1](np.array(x_train)).numpy()\r\n",
        "\r\n",
        "inputs = keras.Input(shape=(h_star,))\r\n",
        "x1 = layers.Dense(s,activation=\"sigmoid\")(inputs)\r\n",
        "outputs = layers.Dense(h_star, activation=\"sigmoid\")(x1)\r\n",
        "autoEncoder = keras.Model(inputs=inputs,outputs=outputs)\r\n",
        "autoEncoder.compile(optimizer=optimizer,loss=keras.losses.MeanSquaredError())\r\n",
        "\r\n",
        "checkpoint=callbacks.ModelCheckpoint(filepath='encoder',monitor='val_loss',save_best_only=True)\r\n",
        "Monitor = autoEncoder.fit(z_train,z_train,epochs=80, batch_size=batch,validation_data=(z_test,z_test),callbacks=[checkpoint], verbose=0)\r\n",
        "autoEncoder = load_model('encoder')"
      ],
      "execution_count": 37,
      "outputs": []
    },
    {
      "cell_type": "markdown",
      "metadata": {
        "id": "wcIO1tqnWQe0"
      },
      "source": [
        "MPL**"
      ]
    },
    {
      "cell_type": "code",
      "metadata": {
        "id": "cNmeHdDyWXSo",
        "colab": {
          "base_uri": "https://localhost:8080/"
        },
        "outputId": "48e30fc6-ffce-4416-8bee-f0287966a46f"
      },
      "source": [
        "model = load_model('encoder')\r\n",
        "#Xn -> Zn -> Kn:\r\n",
        "kn = model.layers[1](zn).numpy()\r\n",
        "kn_test = model.layers[1](z_test).numpy()\r\n",
        "kn_train = model.layers[1](z_train).numpy()\r\n",
        "\r\n",
        "#Kn -> (Out) -> P(n)\r\n",
        "inputs = keras.Input(shape=(kn.shape[1],))\r\n",
        "outputs = layers.Dense(3, activation=\"softmax\")(inputs)\r\n",
        "modelhstar2 = keras.Model(inputs=inputs,outputs=outputs)\r\n",
        "modelhstar2.compile(optimizer=optimizer,loss=loss_fn, metrics=['accuracy'])\r\n",
        "\r\n",
        "checkpoint=callbacks.ModelCheckpoint(filepath='BestModel_hstar2',monitor='val_accuracy',save_best_only=True)\r\n",
        "Monitor2 = modelhstar2.fit(kn_train,y_train.astype('category').cat.codes,epochs=150, batch_size=batch,\r\n",
        "                      validation_data=(kn_test,y_test.astype('category').cat.codes),callbacks=[checkpoint], verbose=0)\r\n",
        "\r\n",
        "trainConf2 = conf(y_train, ypred(kn_train, Monitor2.model))\r\n",
        "print('MLP** train:\\n', trainConf2)\r\n",
        "testConf2 = conf(y_test, ypred(kn_test, Monitor2.model))\r\n",
        "print('\\nMLP** test:\\n', testConf2)"
      ],
      "execution_count": 38,
      "outputs": [
        {
          "output_type": "stream",
          "text": [
            "MLP** train:\n",
            " Predicted      BITSTREAMVERA  CONSOLAS  EBRIMA\n",
            "Actual                                        \n",
            "BITSTREAMVERA            1.0       0.0     0.0\n",
            "CONSOLAS                 0.0       1.0     0.0\n",
            "EBRIMA                   0.0       0.0     1.0\n",
            "\n",
            "MLP** test:\n",
            " Predicted      BITSTREAMVERA  CONSOLAS    EBRIMA\n",
            "Actual                                          \n",
            "BITSTREAMVERA       0.984979  0.000000  0.003484\n",
            "CONSOLAS            0.010730  0.866142  0.090592\n",
            "EBRIMA              0.004292  0.133858  0.905923\n"
          ],
          "name": "stdout"
        }
      ]
    }
  ]
}